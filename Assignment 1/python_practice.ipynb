{
  "nbformat": 4,
  "nbformat_minor": 0,
  "metadata": {
    "colab": {
      "name": "Untitled0.ipynb",
      "provenance": []
    },
    "kernelspec": {
      "name": "python3",
      "display_name": "Python 3"
    },
    "language_info": {
      "name": "python"
    }
  },
  "cells": [
    {
      "cell_type": "code",
      "metadata": {
        "colab": {
          "base_uri": "https://localhost:8080/"
        },
        "id": "WQiGVH2mqLtK",
        "outputId": "73c80005-466d-4827-d7eb-3120518e4290"
      },
      "source": [
        "#1. Create a list of your favourite tv shows and movies. After creating the list of at least 4items, iterate over the whole list and print it's elements.\n",
        "\n",
        "tvshows=[\"Sherlock\",\"Friends\",\"Naruto\",\"Game of Thrones\"]\n",
        "movies=[\"Deadpool\",\"Inception\",\"LODR\",\"Iron Man\"]\n",
        "print(\"My favourite TV shows are:\")\n",
        "for i in tvshows:\n",
        "    print(i)  \n",
        "print(\"My favourite Movies are:\")\n",
        "for i in movies:\n",
        "    print(i)"
      ],
      "execution_count": 4,
      "outputs": [
        {
          "output_type": "stream",
          "text": [
            "My favourite TV shows are:\n",
            "Sherlock\n",
            "Friends\n",
            "Naruto\n",
            "Game of Thrones\n",
            "My favourite Movies are:\n",
            "Deadpool\n",
            "Inception\n",
            "LODR\n",
            "Iron Man\n"
          ],
          "name": "stdout"
        }
      ]
    },
    {
      "cell_type": "code",
      "metadata": {
        "colab": {
          "base_uri": "https://localhost:8080/"
        },
        "id": "-NnK0-wyqWlP",
        "outputId": "e7cbe4ee-3502-41c1-8060-073d60122c5c"
      },
      "source": [
        "#2. Now ask the user to enter 2 of his favourite tv shows. Take that as input and then use the append() function to add those inputs into the list.\n",
        "\n",
        "n1=input(\"enter your favourite tv show : \")\n",
        "n2=input(\"enter another tv show : \")\n",
        "tvshows.append(n1)\n",
        "tvshows.append(n2)\n",
        "print(tvshows)"
      ],
      "execution_count": 5,
      "outputs": [
        {
          "output_type": "stream",
          "text": [
            "enter your favourite tv show : himym\n",
            "enter another tv show : dark\n",
            "['Sherlock', 'Friends', 'Naruto', 'Game of Thrones', 'himym', 'dark']\n"
          ],
          "name": "stdout"
        }
      ]
    },
    {
      "cell_type": "code",
      "metadata": {
        "colab": {
          "base_uri": "https://localhost:8080/"
        },
        "id": "ccPYAmSRrLCM",
        "outputId": "2717c30c-1533-4678-c7af-dea2d7337d1c"
      },
      "source": [
        "#3. Use slicing to print every 2nd element from the list starting from the second element.\n",
        "\n",
        "limst=[4,2,6,8,1,5,7,3,9,0]\n",
        "print(limst[1::2])"
      ],
      "execution_count": 7,
      "outputs": [
        {
          "output_type": "stream",
          "text": [
            "[2, 8, 5, 3, 0]\n"
          ],
          "name": "stdout"
        }
      ]
    },
    {
      "cell_type": "code",
      "metadata": {
        "colab": {
          "base_uri": "https://localhost:8080/"
        },
        "id": "qPQpdSNdrT4m",
        "outputId": "9c6a506a-ea7a-4cb8-ec1b-7e23a369f8e7"
      },
      "source": [
        "#4. Create a list of 5 integers and use a while loop to calculate their sum.\n",
        "\n",
        "a=[20,12,15,30,35]\n",
        "i=0\n",
        "sum= 0\n",
        "while i<len(a):\n",
        "    sum=sum+a[i]\n",
        "    i+=1\n",
        "print(sum)"
      ],
      "execution_count": 9,
      "outputs": [
        {
          "output_type": "stream",
          "text": [
            "112\n"
          ],
          "name": "stdout"
        }
      ]
    },
    {
      "cell_type": "code",
      "metadata": {
        "colab": {
          "base_uri": "https://localhost:8080/"
        },
        "id": "0Y5A0edvrd4w",
        "outputId": "d95726de-ffff-4e94-99cb-0c129679b1bc"
      },
      "source": [
        "#5. Print the following pattern using a loop:\n",
        "\n",
        "n=int(input(\"Enter number of rows : \"))\n",
        "for i in range(1,n+1):\n",
        "    for j in range(1,i+1):\n",
        "        print(j,end=\"\")\n",
        "    print()"
      ],
      "execution_count": 11,
      "outputs": [
        {
          "output_type": "stream",
          "text": [
            "Enter number of rows : 5\n",
            "1\n",
            "12\n",
            "123\n",
            "1234\n",
            "12345\n"
          ],
          "name": "stdout"
        }
      ]
    }
  ]
}